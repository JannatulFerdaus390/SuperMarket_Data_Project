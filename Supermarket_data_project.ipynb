{
 "cells": [
  {
   "cell_type": "code",
   "execution_count": 1,
   "id": "d3e1fd88",
   "metadata": {},
   "outputs": [
    {
     "data": {
      "text/html": [
       "<div>\n",
       "<style scoped>\n",
       "    .dataframe tbody tr th:only-of-type {\n",
       "        vertical-align: middle;\n",
       "    }\n",
       "\n",
       "    .dataframe tbody tr th {\n",
       "        vertical-align: top;\n",
       "    }\n",
       "\n",
       "    .dataframe thead th {\n",
       "        text-align: right;\n",
       "    }\n",
       "</style>\n",
       "<table border=\"1\" class=\"dataframe\">\n",
       "  <thead>\n",
       "    <tr style=\"text-align: right;\">\n",
       "      <th></th>\n",
       "      <th>Invoice ID</th>\n",
       "      <th>Branch</th>\n",
       "      <th>City</th>\n",
       "      <th>Customer type</th>\n",
       "      <th>Gender</th>\n",
       "      <th>Product line</th>\n",
       "      <th>Unit price</th>\n",
       "      <th>Quantity</th>\n",
       "      <th>Tax 5%</th>\n",
       "      <th>Total</th>\n",
       "      <th>Date</th>\n",
       "      <th>Time</th>\n",
       "      <th>Payment</th>\n",
       "      <th>cogs</th>\n",
       "      <th>gross margin percentage</th>\n",
       "      <th>gross income</th>\n",
       "      <th>Rating</th>\n",
       "    </tr>\n",
       "  </thead>\n",
       "  <tbody>\n",
       "    <tr>\n",
       "      <th>0</th>\n",
       "      <td>692-92-5582</td>\n",
       "      <td>B</td>\n",
       "      <td>Mandalay</td>\n",
       "      <td>Member</td>\n",
       "      <td>Female</td>\n",
       "      <td>Food_and_beverages</td>\n",
       "      <td>54.84</td>\n",
       "      <td>3</td>\n",
       "      <td>8.226</td>\n",
       "      <td>172.746</td>\n",
       "      <td>2/20/2019</td>\n",
       "      <td>13:27:00</td>\n",
       "      <td>Credit card</td>\n",
       "      <td>164.52</td>\n",
       "      <td>4.761905</td>\n",
       "      <td>8.226</td>\n",
       "      <td>5.9</td>\n",
       "    </tr>\n",
       "    <tr>\n",
       "      <th>1</th>\n",
       "      <td>351-62-0822</td>\n",
       "      <td>B</td>\n",
       "      <td>Mandalay</td>\n",
       "      <td>Member</td>\n",
       "      <td>Female</td>\n",
       "      <td>Fashion_accessories</td>\n",
       "      <td>14.48</td>\n",
       "      <td>4</td>\n",
       "      <td>2.896</td>\n",
       "      <td>60.816</td>\n",
       "      <td>2019-06-02 00:00:00</td>\n",
       "      <td>18:07:00</td>\n",
       "      <td>Ewallet</td>\n",
       "      <td>57.92</td>\n",
       "      <td>4.761905</td>\n",
       "      <td>2.896</td>\n",
       "      <td>4.5</td>\n",
       "    </tr>\n",
       "    <tr>\n",
       "      <th>2</th>\n",
       "      <td>529-56-3974</td>\n",
       "      <td>B</td>\n",
       "      <td>Mandalay</td>\n",
       "      <td>Member</td>\n",
       "      <td>Male</td>\n",
       "      <td>Electronic_accessories</td>\n",
       "      <td>25.51</td>\n",
       "      <td>4</td>\n",
       "      <td>5.102</td>\n",
       "      <td>107.142</td>\n",
       "      <td>2019-09-03 00:00:00</td>\n",
       "      <td>17:03:00</td>\n",
       "      <td>Cash</td>\n",
       "      <td>102.04</td>\n",
       "      <td>4.761905</td>\n",
       "      <td>5.102</td>\n",
       "      <td>6.8</td>\n",
       "    </tr>\n",
       "    <tr>\n",
       "      <th>3</th>\n",
       "      <td>299-46-1805</td>\n",
       "      <td>B</td>\n",
       "      <td>Mandalay</td>\n",
       "      <td>Member</td>\n",
       "      <td>Female</td>\n",
       "      <td>Sports_and_travel</td>\n",
       "      <td>93.72</td>\n",
       "      <td>6</td>\n",
       "      <td>28.116</td>\n",
       "      <td>590.436</td>\n",
       "      <td>1/15/2019</td>\n",
       "      <td>16:19:00</td>\n",
       "      <td>Cash</td>\n",
       "      <td>562.32</td>\n",
       "      <td>4.761905</td>\n",
       "      <td>28.116</td>\n",
       "      <td>4.5</td>\n",
       "    </tr>\n",
       "    <tr>\n",
       "      <th>4</th>\n",
       "      <td>319-50-3348</td>\n",
       "      <td>B</td>\n",
       "      <td>Mandalay</td>\n",
       "      <td>Normal</td>\n",
       "      <td>Female</td>\n",
       "      <td>Home_and_lifestyle</td>\n",
       "      <td>40.30</td>\n",
       "      <td>2</td>\n",
       "      <td>4.030</td>\n",
       "      <td>84.630</td>\n",
       "      <td>2019-11-03 00:00:00</td>\n",
       "      <td>15:30:00</td>\n",
       "      <td>Ewallet</td>\n",
       "      <td>80.60</td>\n",
       "      <td>4.761905</td>\n",
       "      <td>4.030</td>\n",
       "      <td>4.4</td>\n",
       "    </tr>\n",
       "  </tbody>\n",
       "</table>\n",
       "</div>"
      ],
      "text/plain": [
       "    Invoice ID Branch      City Customer type  Gender            Product line  \\\n",
       "0  692-92-5582      B  Mandalay        Member  Female      Food_and_beverages   \n",
       "1  351-62-0822      B  Mandalay        Member  Female     Fashion_accessories   \n",
       "2  529-56-3974      B  Mandalay        Member    Male  Electronic_accessories   \n",
       "3  299-46-1805      B  Mandalay        Member  Female       Sports_and_travel   \n",
       "4  319-50-3348      B  Mandalay        Normal  Female      Home_and_lifestyle   \n",
       "\n",
       "   Unit price  Quantity  Tax 5%    Total                 Date      Time  \\\n",
       "0       54.84         3   8.226  172.746            2/20/2019  13:27:00   \n",
       "1       14.48         4   2.896   60.816  2019-06-02 00:00:00  18:07:00   \n",
       "2       25.51         4   5.102  107.142  2019-09-03 00:00:00  17:03:00   \n",
       "3       93.72         6  28.116  590.436            1/15/2019  16:19:00   \n",
       "4       40.30         2   4.030   84.630  2019-11-03 00:00:00  15:30:00   \n",
       "\n",
       "       Payment    cogs  gross margin percentage  gross income  Rating  \n",
       "0  Credit card  164.52                 4.761905         8.226     5.9  \n",
       "1      Ewallet   57.92                 4.761905         2.896     4.5  \n",
       "2         Cash  102.04                 4.761905         5.102     6.8  \n",
       "3         Cash  562.32                 4.761905        28.116     4.5  \n",
       "4      Ewallet   80.60                 4.761905         4.030     4.4  "
      ]
     },
     "execution_count": 1,
     "metadata": {},
     "output_type": "execute_result"
    }
   ],
   "source": [
    "import pandas as pd\n",
    "import matplotlib.pyplot as plt\n",
    "\n",
    "\n",
    "sales=pd.read_excel(r\"supermarket_sales.xlsx\")\n",
    "\n",
    "sales.head()"
   ]
  },
  {
   "cell_type": "code",
   "execution_count": 2,
   "id": "271c139c",
   "metadata": {},
   "outputs": [
    {
     "data": {
      "text/plain": [
       "0          Food_and_beverages\n",
       "1         Fashion_accessories\n",
       "2      Electronic_accessories\n",
       "3           Sports_and_travel\n",
       "4          Home_and_lifestyle\n",
       "                ...          \n",
       "995        Food_and_beverages\n",
       "996    Electronic_accessories\n",
       "997        Food_and_beverages\n",
       "998        Home_and_lifestyle\n",
       "999       Fashion_accessories\n",
       "Name: Product line, Length: 1000, dtype: object"
      ]
     },
     "execution_count": 2,
     "metadata": {},
     "output_type": "execute_result"
    }
   ],
   "source": [
    "sales[\"Product line\"]"
   ]
  },
  {
   "cell_type": "code",
   "execution_count": 3,
   "id": "f09679c3",
   "metadata": {},
   "outputs": [
    {
     "data": {
      "text/html": [
       "<div>\n",
       "<style scoped>\n",
       "    .dataframe tbody tr th:only-of-type {\n",
       "        vertical-align: middle;\n",
       "    }\n",
       "\n",
       "    .dataframe tbody tr th {\n",
       "        vertical-align: top;\n",
       "    }\n",
       "\n",
       "    .dataframe thead th {\n",
       "        text-align: right;\n",
       "    }\n",
       "</style>\n",
       "<table border=\"1\" class=\"dataframe\">\n",
       "  <thead>\n",
       "    <tr style=\"text-align: right;\">\n",
       "      <th></th>\n",
       "      <th></th>\n",
       "      <th>Invoice ID</th>\n",
       "      <th>Branch</th>\n",
       "      <th>Customer type</th>\n",
       "      <th>Product line</th>\n",
       "      <th>Unit price</th>\n",
       "      <th>Quantity</th>\n",
       "      <th>Tax 5%</th>\n",
       "      <th>Total</th>\n",
       "      <th>Date</th>\n",
       "      <th>Time</th>\n",
       "      <th>Payment</th>\n",
       "      <th>cogs</th>\n",
       "      <th>gross margin percentage</th>\n",
       "      <th>gross income</th>\n",
       "      <th>Rating</th>\n",
       "    </tr>\n",
       "    <tr>\n",
       "      <th>City</th>\n",
       "      <th>Gender</th>\n",
       "      <th></th>\n",
       "      <th></th>\n",
       "      <th></th>\n",
       "      <th></th>\n",
       "      <th></th>\n",
       "      <th></th>\n",
       "      <th></th>\n",
       "      <th></th>\n",
       "      <th></th>\n",
       "      <th></th>\n",
       "      <th></th>\n",
       "      <th></th>\n",
       "      <th></th>\n",
       "      <th></th>\n",
       "      <th></th>\n",
       "    </tr>\n",
       "  </thead>\n",
       "  <tbody>\n",
       "    <tr>\n",
       "      <th rowspan=\"2\" valign=\"top\">Mandalay</th>\n",
       "      <th>Female</th>\n",
       "      <td>162</td>\n",
       "      <td>162</td>\n",
       "      <td>162</td>\n",
       "      <td>162</td>\n",
       "      <td>162</td>\n",
       "      <td>162</td>\n",
       "      <td>162</td>\n",
       "      <td>162</td>\n",
       "      <td>162</td>\n",
       "      <td>162</td>\n",
       "      <td>162</td>\n",
       "      <td>162</td>\n",
       "      <td>162</td>\n",
       "      <td>162</td>\n",
       "      <td>162</td>\n",
       "    </tr>\n",
       "    <tr>\n",
       "      <th>Male</th>\n",
       "      <td>170</td>\n",
       "      <td>170</td>\n",
       "      <td>170</td>\n",
       "      <td>170</td>\n",
       "      <td>170</td>\n",
       "      <td>170</td>\n",
       "      <td>170</td>\n",
       "      <td>170</td>\n",
       "      <td>170</td>\n",
       "      <td>170</td>\n",
       "      <td>170</td>\n",
       "      <td>170</td>\n",
       "      <td>170</td>\n",
       "      <td>170</td>\n",
       "      <td>170</td>\n",
       "    </tr>\n",
       "    <tr>\n",
       "      <th rowspan=\"2\" valign=\"top\">Naypyitaw</th>\n",
       "      <th>Female</th>\n",
       "      <td>178</td>\n",
       "      <td>178</td>\n",
       "      <td>178</td>\n",
       "      <td>178</td>\n",
       "      <td>178</td>\n",
       "      <td>178</td>\n",
       "      <td>178</td>\n",
       "      <td>178</td>\n",
       "      <td>178</td>\n",
       "      <td>178</td>\n",
       "      <td>178</td>\n",
       "      <td>178</td>\n",
       "      <td>178</td>\n",
       "      <td>178</td>\n",
       "      <td>178</td>\n",
       "    </tr>\n",
       "    <tr>\n",
       "      <th>Male</th>\n",
       "      <td>150</td>\n",
       "      <td>150</td>\n",
       "      <td>150</td>\n",
       "      <td>150</td>\n",
       "      <td>150</td>\n",
       "      <td>150</td>\n",
       "      <td>150</td>\n",
       "      <td>150</td>\n",
       "      <td>150</td>\n",
       "      <td>150</td>\n",
       "      <td>150</td>\n",
       "      <td>150</td>\n",
       "      <td>150</td>\n",
       "      <td>150</td>\n",
       "      <td>150</td>\n",
       "    </tr>\n",
       "    <tr>\n",
       "      <th rowspan=\"2\" valign=\"top\">Yangon</th>\n",
       "      <th>Female</th>\n",
       "      <td>161</td>\n",
       "      <td>161</td>\n",
       "      <td>161</td>\n",
       "      <td>161</td>\n",
       "      <td>161</td>\n",
       "      <td>161</td>\n",
       "      <td>161</td>\n",
       "      <td>161</td>\n",
       "      <td>161</td>\n",
       "      <td>161</td>\n",
       "      <td>161</td>\n",
       "      <td>161</td>\n",
       "      <td>161</td>\n",
       "      <td>161</td>\n",
       "      <td>161</td>\n",
       "    </tr>\n",
       "    <tr>\n",
       "      <th>Male</th>\n",
       "      <td>179</td>\n",
       "      <td>179</td>\n",
       "      <td>179</td>\n",
       "      <td>179</td>\n",
       "      <td>179</td>\n",
       "      <td>179</td>\n",
       "      <td>179</td>\n",
       "      <td>179</td>\n",
       "      <td>179</td>\n",
       "      <td>179</td>\n",
       "      <td>179</td>\n",
       "      <td>179</td>\n",
       "      <td>179</td>\n",
       "      <td>179</td>\n",
       "      <td>179</td>\n",
       "    </tr>\n",
       "  </tbody>\n",
       "</table>\n",
       "</div>"
      ],
      "text/plain": [
       "                  Invoice ID  Branch  Customer type  Product line  Unit price  \\\n",
       "City      Gender                                                                \n",
       "Mandalay  Female         162     162            162           162         162   \n",
       "          Male           170     170            170           170         170   \n",
       "Naypyitaw Female         178     178            178           178         178   \n",
       "          Male           150     150            150           150         150   \n",
       "Yangon    Female         161     161            161           161         161   \n",
       "          Male           179     179            179           179         179   \n",
       "\n",
       "                  Quantity  Tax 5%  Total  Date  Time  Payment  cogs  \\\n",
       "City      Gender                                                       \n",
       "Mandalay  Female       162     162    162   162   162      162   162   \n",
       "          Male         170     170    170   170   170      170   170   \n",
       "Naypyitaw Female       178     178    178   178   178      178   178   \n",
       "          Male         150     150    150   150   150      150   150   \n",
       "Yangon    Female       161     161    161   161   161      161   161   \n",
       "          Male         179     179    179   179   179      179   179   \n",
       "\n",
       "                  gross margin percentage  gross income  Rating  \n",
       "City      Gender                                                 \n",
       "Mandalay  Female                      162           162     162  \n",
       "          Male                        170           170     170  \n",
       "Naypyitaw Female                      178           178     178  \n",
       "          Male                        150           150     150  \n",
       "Yangon    Female                      161           161     161  \n",
       "          Male                        179           179     179  "
      ]
     },
     "execution_count": 3,
     "metadata": {},
     "output_type": "execute_result"
    }
   ],
   "source": [
    "#Question 1: which city has more female member?\n",
    "\n",
    "sales.groupby([\"City\", \"Gender\"]).count()"
   ]
  },
  {
   "cell_type": "code",
   "execution_count": 4,
   "id": "c3854173",
   "metadata": {},
   "outputs": [
    {
     "name": "stdout",
     "output_type": "stream",
     "text": [
      "Gender  City     \n",
      "Female  Mandalay     162\n",
      "        Naypyitaw    178\n",
      "        Yangon       161\n",
      "Male    Mandalay     170\n",
      "        Naypyitaw    150\n",
      "        Yangon       179\n",
      "Name: Customer type, dtype: int64\n"
     ]
    }
   ],
   "source": [
    "female_member=sales.groupby([\"Gender\", \"City\"]).count()[\"Customer type\"]\n",
    "print(female_member)"
   ]
  },
  {
   "cell_type": "code",
   "execution_count": 5,
   "id": "ef68a5d2",
   "metadata": {},
   "outputs": [
    {
     "data": {
      "text/plain": [
       "<matplotlib.legend.Legend at 0x12f9ad590>"
      ]
     },
     "execution_count": 5,
     "metadata": {},
     "output_type": "execute_result"
    },
    {
     "data": {
      "image/png": "[encoded data removed]",
      "text/plain": [
       "<Figure size 640x480 with 1 Axes>"
      ]
     },
     "metadata": {},
     "output_type": "display_data"
    }
   ],
   "source": [
    "female_member.unstack(level=0).plot(kind=\"bar\")\n",
    "plt.legend(loc=\"upper right\")"
   ]
  },
  {
   "cell_type": "code",
   "execution_count": 6,
   "id": "80d5bcde",
   "metadata": {},
   "outputs": [
    {
     "data": {
      "text/plain": [
       "Gender\n",
       "Female    167882.925\n",
       "Male      155083.824\n",
       "Name: Total, dtype: float64"
      ]
     },
     "execution_count": 6,
     "metadata": {},
     "output_type": "execute_result"
    }
   ],
   "source": [
    "#Question 2: who spend more? men or women?\n",
    "\n",
    "sales.groupby(\"Gender\")[\"Total\"].sum()"
   ]
  },
  {
   "cell_type": "code",
   "execution_count": 7,
   "id": "29d8a166",
   "metadata": {},
   "outputs": [
    {
     "data": {
      "text/plain": [
       "<Axes: xlabel='Gender'>"
      ]
     },
     "execution_count": 7,
     "metadata": {},
     "output_type": "execute_result"
    },
    {
     "data": {
      "image/png": "[encoded data removed]",
      "text/plain": [
       "<Figure size 640x480 with 1 Axes>"
      ]
     },
     "metadata": {},
     "output_type": "display_data"
    }
   ],
   "source": [
    "spend=sales.groupby(\"Gender\")[\"Total\"].sum()\n",
    "spend.plot(kind=\"bar\")"
   ]
  },
  {
   "cell_type": "code",
   "execution_count": 8,
   "id": "26cab2fe",
   "metadata": {},
   "outputs": [
    {
     "data": {
      "text/plain": [
       "Customer type\n",
       "Member    164223.444\n",
       "Normal    158743.305\n",
       "Name: Total, dtype: float64"
      ]
     },
     "execution_count": 8,
     "metadata": {},
     "output_type": "execute_result"
    }
   ],
   "source": [
    "#Question 3: which types of customer spend more? member or normal?\n",
    "\n",
    "sales.groupby(\"Customer type\")[\"Total\"].sum()\n"
   ]
  },
  {
   "cell_type": "code",
   "execution_count": 9,
   "id": "4ea1e232",
   "metadata": {},
   "outputs": [
    {
     "data": {
      "text/plain": [
       "<Axes: xlabel='Customer type'>"
      ]
     },
     "execution_count": 9,
     "metadata": {},
     "output_type": "execute_result"
    },
    {
     "data": {
      "image/png": "[encoded data removed]",
      "text/plain": [
       "<Figure size 640x480 with 1 Axes>"
      ]
     },
     "metadata": {},
     "output_type": "display_data"
    }
   ],
   "source": [
    "Customer_type=sales.groupby(\"Customer type\")[\"Total\"].sum()\n",
    "Customer_type.plot(kind=\"bar\")"
   ]
  },
  {
   "cell_type": "code",
   "execution_count": 10,
   "id": "162e79f3",
   "metadata": {},
   "outputs": [
    {
     "data": {
      "image/png": "[encoded data removed]",
      "text/plain": [
       "<Figure size 640x480 with 1 Axes>"
      ]
     },
     "metadata": {},
     "output_type": "display_data"
    }
   ],
   "source": [
    "#Question 4: which product line sells more?\n",
    "\n",
    "Product_line=sales.groupby(\"Product line\").count()[\"Invoice ID\"]\n",
    "Product_line.plot(kind=\"bar\")\n",
    "plt.grid(axis=\"y\")"
   ]
  },
  {
   "cell_type": "code",
   "execution_count": 11,
   "id": "b762ffe3",
   "metadata": {},
   "outputs": [
    {
     "data": {
      "image/png": "[encoded data removed]",
      "text/plain": [
       "<Figure size 640x480 with 1 Axes>"
      ]
     },
     "metadata": {},
     "output_type": "display_data"
    }
   ],
   "source": [
    "#Question 5: which product line is more popular among men and women?\n",
    "\n",
    "sales.groupby([\"Gender\", \"Product line\"]).count()[\"Invoice ID\"]\n",
    "more_popular=sales.groupby([\"Gender\", \"Product line\"]).count()[\"Invoice ID\"]\n",
    "more_popular.unstack(level=0).plot(kind=\"bar\")\n",
    "plt.legend(loc=\"upper right\")\n",
    "plt.grid(axis=\"y\")"
   ]
  },
  {
   "cell_type": "code",
   "execution_count": 12,
   "id": "25f8b3e5",
   "metadata": {},
   "outputs": [
    {
     "data": {
      "text/plain": [
       "0                2/20/2019\n",
       "1      2019-06-02 00:00:00\n",
       "2      2019-09-03 00:00:00\n",
       "3                1/15/2019\n",
       "4      2019-11-03 00:00:00\n",
       "              ...         \n",
       "995              3/22/2019\n",
       "996    2019-10-03 00:00:00\n",
       "997    2019-09-02 00:00:00\n",
       "998              2/22/2019\n",
       "999              2/18/2019\n",
       "Name: Date, Length: 1000, dtype: object"
      ]
     },
     "execution_count": 12,
     "metadata": {},
     "output_type": "execute_result"
    }
   ],
   "source": [
    "#Question 6: what days of the month make most sales?\n",
    "#Question 7: what month makes most sales?\n",
    "\n",
    "sales[\"Date\"]"
   ]
  },
  {
   "cell_type": "code",
   "execution_count": 13,
   "id": "065fe62b",
   "metadata": {},
   "outputs": [
    {
     "data": {
      "text/plain": [
       "0     2019-02-20\n",
       "1     2019-06-02\n",
       "2     2019-09-03\n",
       "3     2019-01-15\n",
       "4     2019-11-03\n",
       "         ...    \n",
       "995   2019-03-22\n",
       "996   2019-10-03\n",
       "997   2019-09-02\n",
       "998   2019-02-22\n",
       "999   2019-02-18\n",
       "Name: Date, Length: 1000, dtype: datetime64[ns]"
      ]
     },
     "execution_count": 13,
     "metadata": {},
     "output_type": "execute_result"
    }
   ],
   "source": [
    "pd.to_datetime(sales[\"Date\"])"
   ]
  },
  {
   "cell_type": "code",
   "execution_count": 14,
   "id": "3418f8a9",
   "metadata": {},
   "outputs": [
    {
     "data": {
      "text/html": [
       "<div>\n",
       "<style scoped>\n",
       "    .dataframe tbody tr th:only-of-type {\n",
       "        vertical-align: middle;\n",
       "    }\n",
       "\n",
       "    .dataframe tbody tr th {\n",
       "        vertical-align: top;\n",
       "    }\n",
       "\n",
       "    .dataframe thead th {\n",
       "        text-align: right;\n",
       "    }\n",
       "</style>\n",
       "<table border=\"1\" class=\"dataframe\">\n",
       "  <thead>\n",
       "    <tr style=\"text-align: right;\">\n",
       "      <th></th>\n",
       "      <th>Invoice ID</th>\n",
       "      <th>Branch</th>\n",
       "      <th>City</th>\n",
       "      <th>Customer type</th>\n",
       "      <th>Gender</th>\n",
       "      <th>Product line</th>\n",
       "      <th>Unit price</th>\n",
       "      <th>Quantity</th>\n",
       "      <th>Tax 5%</th>\n",
       "      <th>Total</th>\n",
       "      <th>Date</th>\n",
       "      <th>Time</th>\n",
       "      <th>Payment</th>\n",
       "      <th>cogs</th>\n",
       "      <th>gross margin percentage</th>\n",
       "      <th>gross income</th>\n",
       "      <th>Rating</th>\n",
       "      <th>Day</th>\n",
       "      <th>Month</th>\n",
       "    </tr>\n",
       "  </thead>\n",
       "  <tbody>\n",
       "    <tr>\n",
       "      <th>0</th>\n",
       "      <td>692-92-5582</td>\n",
       "      <td>B</td>\n",
       "      <td>Mandalay</td>\n",
       "      <td>Member</td>\n",
       "      <td>Female</td>\n",
       "      <td>Food_and_beverages</td>\n",
       "      <td>54.84</td>\n",
       "      <td>3</td>\n",
       "      <td>8.226</td>\n",
       "      <td>172.746</td>\n",
       "      <td>2/20/2019</td>\n",
       "      <td>13:27:00</td>\n",
       "      <td>Credit card</td>\n",
       "      <td>164.52</td>\n",
       "      <td>4.761905</td>\n",
       "      <td>8.226</td>\n",
       "      <td>5.9</td>\n",
       "      <td>20</td>\n",
       "      <td>2</td>\n",
       "    </tr>\n",
       "    <tr>\n",
       "      <th>1</th>\n",
       "      <td>351-62-0822</td>\n",
       "      <td>B</td>\n",
       "      <td>Mandalay</td>\n",
       "      <td>Member</td>\n",
       "      <td>Female</td>\n",
       "      <td>Fashion_accessories</td>\n",
       "      <td>14.48</td>\n",
       "      <td>4</td>\n",
       "      <td>2.896</td>\n",
       "      <td>60.816</td>\n",
       "      <td>2019-06-02 00:00:00</td>\n",
       "      <td>18:07:00</td>\n",
       "      <td>Ewallet</td>\n",
       "      <td>57.92</td>\n",
       "      <td>4.761905</td>\n",
       "      <td>2.896</td>\n",
       "      <td>4.5</td>\n",
       "      <td>2</td>\n",
       "      <td>6</td>\n",
       "    </tr>\n",
       "    <tr>\n",
       "      <th>2</th>\n",
       "      <td>529-56-3974</td>\n",
       "      <td>B</td>\n",
       "      <td>Mandalay</td>\n",
       "      <td>Member</td>\n",
       "      <td>Male</td>\n",
       "      <td>Electronic_accessories</td>\n",
       "      <td>25.51</td>\n",
       "      <td>4</td>\n",
       "      <td>5.102</td>\n",
       "      <td>107.142</td>\n",
       "      <td>2019-09-03 00:00:00</td>\n",
       "      <td>17:03:00</td>\n",
       "      <td>Cash</td>\n",
       "      <td>102.04</td>\n",
       "      <td>4.761905</td>\n",
       "      <td>5.102</td>\n",
       "      <td>6.8</td>\n",
       "      <td>3</td>\n",
       "      <td>9</td>\n",
       "    </tr>\n",
       "    <tr>\n",
       "      <th>3</th>\n",
       "      <td>299-46-1805</td>\n",
       "      <td>B</td>\n",
       "      <td>Mandalay</td>\n",
       "      <td>Member</td>\n",
       "      <td>Female</td>\n",
       "      <td>Sports_and_travel</td>\n",
       "      <td>93.72</td>\n",
       "      <td>6</td>\n",
       "      <td>28.116</td>\n",
       "      <td>590.436</td>\n",
       "      <td>1/15/2019</td>\n",
       "      <td>16:19:00</td>\n",
       "      <td>Cash</td>\n",
       "      <td>562.32</td>\n",
       "      <td>4.761905</td>\n",
       "      <td>28.116</td>\n",
       "      <td>4.5</td>\n",
       "      <td>15</td>\n",
       "      <td>1</td>\n",
       "    </tr>\n",
       "    <tr>\n",
       "      <th>4</th>\n",
       "      <td>319-50-3348</td>\n",
       "      <td>B</td>\n",
       "      <td>Mandalay</td>\n",
       "      <td>Normal</td>\n",
       "      <td>Female</td>\n",
       "      <td>Home_and_lifestyle</td>\n",
       "      <td>40.30</td>\n",
       "      <td>2</td>\n",
       "      <td>4.030</td>\n",
       "      <td>84.630</td>\n",
       "      <td>2019-11-03 00:00:00</td>\n",
       "      <td>15:30:00</td>\n",
       "      <td>Ewallet</td>\n",
       "      <td>80.60</td>\n",
       "      <td>4.761905</td>\n",
       "      <td>4.030</td>\n",
       "      <td>4.4</td>\n",
       "      <td>3</td>\n",
       "      <td>11</td>\n",
       "    </tr>\n",
       "  </tbody>\n",
       "</table>\n",
       "</div>"
      ],
      "text/plain": [
       "    Invoice ID Branch      City Customer type  Gender            Product line  \\\n",
       "0  692-92-5582      B  Mandalay        Member  Female      Food_and_beverages   \n",
       "1  351-62-0822      B  Mandalay        Member  Female     Fashion_accessories   \n",
       "2  529-56-3974      B  Mandalay        Member    Male  Electronic_accessories   \n",
       "3  299-46-1805      B  Mandalay        Member  Female       Sports_and_travel   \n",
       "4  319-50-3348      B  Mandalay        Normal  Female      Home_and_lifestyle   \n",
       "\n",
       "   Unit price  Quantity  Tax 5%    Total                 Date      Time  \\\n",
       "0       54.84         3   8.226  172.746            2/20/2019  13:27:00   \n",
       "1       14.48         4   2.896   60.816  2019-06-02 00:00:00  18:07:00   \n",
       "2       25.51         4   5.102  107.142  2019-09-03 00:00:00  17:03:00   \n",
       "3       93.72         6  28.116  590.436            1/15/2019  16:19:00   \n",
       "4       40.30         2   4.030   84.630  2019-11-03 00:00:00  15:30:00   \n",
       "\n",
       "       Payment    cogs  gross margin percentage  gross income  Rating  Day  \\\n",
       "0  Credit card  164.52                 4.761905         8.226     5.9   20   \n",
       "1      Ewallet   57.92                 4.761905         2.896     4.5    2   \n",
       "2         Cash  102.04                 4.761905         5.102     6.8    3   \n",
       "3         Cash  562.32                 4.761905        28.116     4.5   15   \n",
       "4      Ewallet   80.60                 4.761905         4.030     4.4    3   \n",
       "\n",
       "   Month  \n",
       "0      2  \n",
       "1      6  \n",
       "2      9  \n",
       "3      1  \n",
       "4     11  "
      ]
     },
     "execution_count": 14,
     "metadata": {},
     "output_type": "execute_result"
    }
   ],
   "source": [
    "pd.to_datetime(sales[\"Date\"]).dt.day\n",
    "pd.to_datetime(sales[\"Date\"]).dt.month\n",
    "sales[\"Day\"]=pd.to_datetime(sales[\"Date\"]).dt.day\n",
    "sales[\"Month\"]=pd.to_datetime(sales[\"Date\"]).dt.month\n",
    "sales.head()"
   ]
  },
  {
   "cell_type": "code",
   "execution_count": 15,
   "id": "d58cd068",
   "metadata": {},
   "outputs": [
    {
     "data": {
      "image/png": "[encoded data removed]",
      "text/plain": [
       "<Figure size 640x480 with 1 Axes>"
      ]
     },
     "metadata": {},
     "output_type": "display_data"
    }
   ],
   "source": [
    "sales.groupby(\"Day\")[\"Total\"].sum().plot()\n",
    "plt.grid()"
   ]
  },
  {
   "cell_type": "code",
   "execution_count": 16,
   "id": "5f59df91",
   "metadata": {},
   "outputs": [
    {
     "data": {
      "image/png": "[encoded data removed]",
      "text/plain": [
       "<Figure size 640x480 with 1 Axes>"
      ]
     },
     "metadata": {},
     "output_type": "display_data"
    }
   ],
   "source": [
    "sales.groupby(\"Month\")[\"Total\"].sum().plot(kind=\"bar\")\n",
    "plt.grid(axis=\"y\")"
   ]
  },
  {
   "cell_type": "code",
   "execution_count": 17,
   "id": "958fb088",
   "metadata": {},
   "outputs": [
    {
     "data": {
      "text/plain": [
       "0                2/20/2019\n",
       "1      2019-06-02 00:00:00\n",
       "2      2019-09-03 00:00:00\n",
       "3                1/15/2019\n",
       "4      2019-11-03 00:00:00\n",
       "              ...         \n",
       "995              3/22/2019\n",
       "996    2019-10-03 00:00:00\n",
       "997    2019-09-02 00:00:00\n",
       "998              2/22/2019\n",
       "999              2/18/2019\n",
       "Name: Date, Length: 1000, dtype: object"
      ]
     },
     "execution_count": 17,
     "metadata": {},
     "output_type": "execute_result"
    }
   ],
   "source": [
    "# Question 8: what hour makes the most sales?\n",
    "sales[\"Date\"]"
   ]
  },
  {
   "cell_type": "code",
   "execution_count": 18,
   "id": "befba0dc",
   "metadata": {},
   "outputs": [
    {
     "data": {
      "text/html": [
       "<div>\n",
       "<style scoped>\n",
       "    .dataframe tbody tr th:only-of-type {\n",
       "        vertical-align: middle;\n",
       "    }\n",
       "\n",
       "    .dataframe tbody tr th {\n",
       "        vertical-align: top;\n",
       "    }\n",
       "\n",
       "    .dataframe thead th {\n",
       "        text-align: right;\n",
       "    }\n",
       "</style>\n",
       "<table border=\"1\" class=\"dataframe\">\n",
       "  <thead>\n",
       "    <tr style=\"text-align: right;\">\n",
       "      <th></th>\n",
       "      <th>Invoice ID</th>\n",
       "      <th>Branch</th>\n",
       "      <th>City</th>\n",
       "      <th>Customer type</th>\n",
       "      <th>Gender</th>\n",
       "      <th>Product line</th>\n",
       "      <th>Unit price</th>\n",
       "      <th>Quantity</th>\n",
       "      <th>Tax 5%</th>\n",
       "      <th>Total</th>\n",
       "      <th>Date</th>\n",
       "      <th>Time</th>\n",
       "      <th>Payment</th>\n",
       "      <th>cogs</th>\n",
       "      <th>gross margin percentage</th>\n",
       "      <th>gross income</th>\n",
       "      <th>Rating</th>\n",
       "      <th>Day</th>\n",
       "      <th>Month</th>\n",
       "    </tr>\n",
       "  </thead>\n",
       "  <tbody>\n",
       "    <tr>\n",
       "      <th>0</th>\n",
       "      <td>692-92-5582</td>\n",
       "      <td>B</td>\n",
       "      <td>Mandalay</td>\n",
       "      <td>Member</td>\n",
       "      <td>Female</td>\n",
       "      <td>Food_and_beverages</td>\n",
       "      <td>54.84</td>\n",
       "      <td>3</td>\n",
       "      <td>8.226</td>\n",
       "      <td>172.746</td>\n",
       "      <td>2019-02-20</td>\n",
       "      <td>13:27:00</td>\n",
       "      <td>Credit card</td>\n",
       "      <td>164.52</td>\n",
       "      <td>4.761905</td>\n",
       "      <td>8.226</td>\n",
       "      <td>5.9</td>\n",
       "      <td>20</td>\n",
       "      <td>2</td>\n",
       "    </tr>\n",
       "    <tr>\n",
       "      <th>1</th>\n",
       "      <td>351-62-0822</td>\n",
       "      <td>B</td>\n",
       "      <td>Mandalay</td>\n",
       "      <td>Member</td>\n",
       "      <td>Female</td>\n",
       "      <td>Fashion_accessories</td>\n",
       "      <td>14.48</td>\n",
       "      <td>4</td>\n",
       "      <td>2.896</td>\n",
       "      <td>60.816</td>\n",
       "      <td>2019-06-02</td>\n",
       "      <td>18:07:00</td>\n",
       "      <td>Ewallet</td>\n",
       "      <td>57.92</td>\n",
       "      <td>4.761905</td>\n",
       "      <td>2.896</td>\n",
       "      <td>4.5</td>\n",
       "      <td>2</td>\n",
       "      <td>6</td>\n",
       "    </tr>\n",
       "    <tr>\n",
       "      <th>2</th>\n",
       "      <td>529-56-3974</td>\n",
       "      <td>B</td>\n",
       "      <td>Mandalay</td>\n",
       "      <td>Member</td>\n",
       "      <td>Male</td>\n",
       "      <td>Electronic_accessories</td>\n",
       "      <td>25.51</td>\n",
       "      <td>4</td>\n",
       "      <td>5.102</td>\n",
       "      <td>107.142</td>\n",
       "      <td>2019-09-03</td>\n",
       "      <td>17:03:00</td>\n",
       "      <td>Cash</td>\n",
       "      <td>102.04</td>\n",
       "      <td>4.761905</td>\n",
       "      <td>5.102</td>\n",
       "      <td>6.8</td>\n",
       "      <td>3</td>\n",
       "      <td>9</td>\n",
       "    </tr>\n",
       "    <tr>\n",
       "      <th>3</th>\n",
       "      <td>299-46-1805</td>\n",
       "      <td>B</td>\n",
       "      <td>Mandalay</td>\n",
       "      <td>Member</td>\n",
       "      <td>Female</td>\n",
       "      <td>Sports_and_travel</td>\n",
       "      <td>93.72</td>\n",
       "      <td>6</td>\n",
       "      <td>28.116</td>\n",
       "      <td>590.436</td>\n",
       "      <td>2019-01-15</td>\n",
       "      <td>16:19:00</td>\n",
       "      <td>Cash</td>\n",
       "      <td>562.32</td>\n",
       "      <td>4.761905</td>\n",
       "      <td>28.116</td>\n",
       "      <td>4.5</td>\n",
       "      <td>15</td>\n",
       "      <td>1</td>\n",
       "    </tr>\n",
       "    <tr>\n",
       "      <th>4</th>\n",
       "      <td>319-50-3348</td>\n",
       "      <td>B</td>\n",
       "      <td>Mandalay</td>\n",
       "      <td>Normal</td>\n",
       "      <td>Female</td>\n",
       "      <td>Home_and_lifestyle</td>\n",
       "      <td>40.30</td>\n",
       "      <td>2</td>\n",
       "      <td>4.030</td>\n",
       "      <td>84.630</td>\n",
       "      <td>2019-11-03</td>\n",
       "      <td>15:30:00</td>\n",
       "      <td>Ewallet</td>\n",
       "      <td>80.60</td>\n",
       "      <td>4.761905</td>\n",
       "      <td>4.030</td>\n",
       "      <td>4.4</td>\n",
       "      <td>3</td>\n",
       "      <td>11</td>\n",
       "    </tr>\n",
       "  </tbody>\n",
       "</table>\n",
       "</div>"
      ],
      "text/plain": [
       "    Invoice ID Branch      City Customer type  Gender            Product line  \\\n",
       "0  692-92-5582      B  Mandalay        Member  Female      Food_and_beverages   \n",
       "1  351-62-0822      B  Mandalay        Member  Female     Fashion_accessories   \n",
       "2  529-56-3974      B  Mandalay        Member    Male  Electronic_accessories   \n",
       "3  299-46-1805      B  Mandalay        Member  Female       Sports_and_travel   \n",
       "4  319-50-3348      B  Mandalay        Normal  Female      Home_and_lifestyle   \n",
       "\n",
       "   Unit price  Quantity  Tax 5%    Total        Date      Time      Payment  \\\n",
       "0       54.84         3   8.226  172.746  2019-02-20  13:27:00  Credit card   \n",
       "1       14.48         4   2.896   60.816  2019-06-02  18:07:00      Ewallet   \n",
       "2       25.51         4   5.102  107.142  2019-09-03  17:03:00         Cash   \n",
       "3       93.72         6  28.116  590.436  2019-01-15  16:19:00         Cash   \n",
       "4       40.30         2   4.030   84.630  2019-11-03  15:30:00      Ewallet   \n",
       "\n",
       "     cogs  gross margin percentage  gross income  Rating  Day  Month  \n",
       "0  164.52                 4.761905         8.226     5.9   20      2  \n",
       "1   57.92                 4.761905         2.896     4.5    2      6  \n",
       "2  102.04                 4.761905         5.102     6.8    3      9  \n",
       "3  562.32                 4.761905        28.116     4.5   15      1  \n",
       "4   80.60                 4.761905         4.030     4.4    3     11  "
      ]
     },
     "execution_count": 18,
     "metadata": {},
     "output_type": "execute_result"
    }
   ],
   "source": [
    "sales['Date'] = pd.to_datetime(sales['Date']).dt.date\n",
    "sales.head()"
   ]
  },
  {
   "cell_type": "code",
   "execution_count": 19,
   "id": "eefd339a",
   "metadata": {},
   "outputs": [
    {
     "data": {
      "text/plain": [
       "0      13:27:00\n",
       "1      18:07:00\n",
       "2      17:03:00\n",
       "3      16:19:00\n",
       "4      15:30:00\n",
       "         ...   \n",
       "995    19:06:00\n",
       "996    20:46:00\n",
       "997    13:22:00\n",
       "998    15:33:00\n",
       "999    13:28:00\n",
       "Name: Time, Length: 1000, dtype: object"
      ]
     },
     "execution_count": 19,
     "metadata": {},
     "output_type": "execute_result"
    }
   ],
   "source": [
    "sales[\"Time\"]"
   ]
  },
  {
   "cell_type": "code",
   "execution_count": 24,
   "id": "0576488e",
   "metadata": {},
   "outputs": [
    {
     "data": {
      "text/html": [
       "<div>\n",
       "<style scoped>\n",
       "    .dataframe tbody tr th:only-of-type {\n",
       "        vertical-align: middle;\n",
       "    }\n",
       "\n",
       "    .dataframe tbody tr th {\n",
       "        vertical-align: top;\n",
       "    }\n",
       "\n",
       "    .dataframe thead th {\n",
       "        text-align: right;\n",
       "    }\n",
       "</style>\n",
       "<table border=\"1\" class=\"dataframe\">\n",
       "  <thead>\n",
       "    <tr style=\"text-align: right;\">\n",
       "      <th></th>\n",
       "      <th>Invoice ID</th>\n",
       "      <th>Branch</th>\n",
       "      <th>City</th>\n",
       "      <th>Customer type</th>\n",
       "      <th>Gender</th>\n",
       "      <th>Product line</th>\n",
       "      <th>Unit price</th>\n",
       "      <th>Quantity</th>\n",
       "      <th>Tax 5%</th>\n",
       "      <th>Total</th>\n",
       "      <th>Date</th>\n",
       "      <th>Time</th>\n",
       "      <th>Payment</th>\n",
       "      <th>cogs</th>\n",
       "      <th>gross margin percentage</th>\n",
       "      <th>gross income</th>\n",
       "      <th>Rating</th>\n",
       "      <th>Day</th>\n",
       "      <th>Month</th>\n",
       "      <th>Hour</th>\n",
       "    </tr>\n",
       "  </thead>\n",
       "  <tbody>\n",
       "    <tr>\n",
       "      <th>0</th>\n",
       "      <td>692-92-5582</td>\n",
       "      <td>B</td>\n",
       "      <td>Mandalay</td>\n",
       "      <td>Member</td>\n",
       "      <td>Female</td>\n",
       "      <td>Food_and_beverages</td>\n",
       "      <td>54.84</td>\n",
       "      <td>3</td>\n",
       "      <td>8.226</td>\n",
       "      <td>172.746</td>\n",
       "      <td>2019-02-20</td>\n",
       "      <td>1900-01-01 13:27:00</td>\n",
       "      <td>Credit card</td>\n",
       "      <td>164.52</td>\n",
       "      <td>4.761905</td>\n",
       "      <td>8.226</td>\n",
       "      <td>5.9</td>\n",
       "      <td>20</td>\n",
       "      <td>2</td>\n",
       "      <td>13</td>\n",
       "    </tr>\n",
       "    <tr>\n",
       "      <th>1</th>\n",
       "      <td>351-62-0822</td>\n",
       "      <td>B</td>\n",
       "      <td>Mandalay</td>\n",
       "      <td>Member</td>\n",
       "      <td>Female</td>\n",
       "      <td>Fashion_accessories</td>\n",
       "      <td>14.48</td>\n",
       "      <td>4</td>\n",
       "      <td>2.896</td>\n",
       "      <td>60.816</td>\n",
       "      <td>2019-06-02</td>\n",
       "      <td>1900-01-01 18:07:00</td>\n",
       "      <td>Ewallet</td>\n",
       "      <td>57.92</td>\n",
       "      <td>4.761905</td>\n",
       "      <td>2.896</td>\n",
       "      <td>4.5</td>\n",
       "      <td>2</td>\n",
       "      <td>6</td>\n",
       "      <td>18</td>\n",
       "    </tr>\n",
       "    <tr>\n",
       "      <th>2</th>\n",
       "      <td>529-56-3974</td>\n",
       "      <td>B</td>\n",
       "      <td>Mandalay</td>\n",
       "      <td>Member</td>\n",
       "      <td>Male</td>\n",
       "      <td>Electronic_accessories</td>\n",
       "      <td>25.51</td>\n",
       "      <td>4</td>\n",
       "      <td>5.102</td>\n",
       "      <td>107.142</td>\n",
       "      <td>2019-09-03</td>\n",
       "      <td>1900-01-01 17:03:00</td>\n",
       "      <td>Cash</td>\n",
       "      <td>102.04</td>\n",
       "      <td>4.761905</td>\n",
       "      <td>5.102</td>\n",
       "      <td>6.8</td>\n",
       "      <td>3</td>\n",
       "      <td>9</td>\n",
       "      <td>17</td>\n",
       "    </tr>\n",
       "    <tr>\n",
       "      <th>3</th>\n",
       "      <td>299-46-1805</td>\n",
       "      <td>B</td>\n",
       "      <td>Mandalay</td>\n",
       "      <td>Member</td>\n",
       "      <td>Female</td>\n",
       "      <td>Sports_and_travel</td>\n",
       "      <td>93.72</td>\n",
       "      <td>6</td>\n",
       "      <td>28.116</td>\n",
       "      <td>590.436</td>\n",
       "      <td>2019-01-15</td>\n",
       "      <td>1900-01-01 16:19:00</td>\n",
       "      <td>Cash</td>\n",
       "      <td>562.32</td>\n",
       "      <td>4.761905</td>\n",
       "      <td>28.116</td>\n",
       "      <td>4.5</td>\n",
       "      <td>15</td>\n",
       "      <td>1</td>\n",
       "      <td>16</td>\n",
       "    </tr>\n",
       "    <tr>\n",
       "      <th>4</th>\n",
       "      <td>319-50-3348</td>\n",
       "      <td>B</td>\n",
       "      <td>Mandalay</td>\n",
       "      <td>Normal</td>\n",
       "      <td>Female</td>\n",
       "      <td>Home_and_lifestyle</td>\n",
       "      <td>40.30</td>\n",
       "      <td>2</td>\n",
       "      <td>4.030</td>\n",
       "      <td>84.630</td>\n",
       "      <td>2019-11-03</td>\n",
       "      <td>1900-01-01 15:30:00</td>\n",
       "      <td>Ewallet</td>\n",
       "      <td>80.60</td>\n",
       "      <td>4.761905</td>\n",
       "      <td>4.030</td>\n",
       "      <td>4.4</td>\n",
       "      <td>3</td>\n",
       "      <td>11</td>\n",
       "      <td>15</td>\n",
       "    </tr>\n",
       "  </tbody>\n",
       "</table>\n",
       "</div>"
      ],
      "text/plain": [
       "    Invoice ID Branch      City Customer type  Gender            Product line  \\\n",
       "0  692-92-5582      B  Mandalay        Member  Female      Food_and_beverages   \n",
       "1  351-62-0822      B  Mandalay        Member  Female     Fashion_accessories   \n",
       "2  529-56-3974      B  Mandalay        Member    Male  Electronic_accessories   \n",
       "3  299-46-1805      B  Mandalay        Member  Female       Sports_and_travel   \n",
       "4  319-50-3348      B  Mandalay        Normal  Female      Home_and_lifestyle   \n",
       "\n",
       "   Unit price  Quantity  Tax 5%    Total        Date                Time  \\\n",
       "0       54.84         3   8.226  172.746  2019-02-20 1900-01-01 13:27:00   \n",
       "1       14.48         4   2.896   60.816  2019-06-02 1900-01-01 18:07:00   \n",
       "2       25.51         4   5.102  107.142  2019-09-03 1900-01-01 17:03:00   \n",
       "3       93.72         6  28.116  590.436  2019-01-15 1900-01-01 16:19:00   \n",
       "4       40.30         2   4.030   84.630  2019-11-03 1900-01-01 15:30:00   \n",
       "\n",
       "       Payment    cogs  gross margin percentage  gross income  Rating  Day  \\\n",
       "0  Credit card  164.52                 4.761905         8.226     5.9   20   \n",
       "1      Ewallet   57.92                 4.761905         2.896     4.5    2   \n",
       "2         Cash  102.04                 4.761905         5.102     6.8    3   \n",
       "3         Cash  562.32                 4.761905        28.116     4.5   15   \n",
       "4      Ewallet   80.60                 4.761905         4.030     4.4    3   \n",
       "\n",
       "   Month  Hour  \n",
       "0      2    13  \n",
       "1      6    18  \n",
       "2      9    17  \n",
       "3      1    16  \n",
       "4     11    15  "
      ]
     },
     "execution_count": 24,
     "metadata": {},
     "output_type": "execute_result"
    }
   ],
   "source": [
    "sales['Time'] = pd.to_datetime(sales['Time'], format='%H:%M:%S')\n",
    "\n",
    "sales['Hour'] = sales['Time'].dt.hour\n",
    "\n",
    "sales.head()"
   ]
  },
  {
   "cell_type": "code",
   "execution_count": 26,
   "id": "821c3e18",
   "metadata": {},
   "outputs": [
    {
     "data": {
      "image/png": "[encoded data removed]",
      "text/plain": [
       "<Figure size 640x480 with 1 Axes>"
      ]
     },
     "metadata": {},
     "output_type": "display_data"
    }
   ],
   "source": [
    "sales.groupby(\"Hour\")[\"Total\"].sum().plot()\n",
    "plt.grid()"
   ]
  },
  {
   "cell_type": "code",
   "execution_count": 27,
   "id": "cf6a8e2f",
   "metadata": {},
   "outputs": [
    {
     "data": {
      "text/plain": [
       "Payment      Hour\n",
       "Cash         10      39\n",
       "             11      34\n",
       "             12      29\n",
       "             13      40\n",
       "             14      27\n",
       "             15      35\n",
       "             16      23\n",
       "             17      29\n",
       "             18      30\n",
       "             19      35\n",
       "             20      23\n",
       "Credit card  10      35\n",
       "             11      25\n",
       "             12      30\n",
       "             13      27\n",
       "             14      25\n",
       "             15      30\n",
       "             16      21\n",
       "             17      27\n",
       "             18      31\n",
       "             19      36\n",
       "             20      24\n",
       "Ewallet      10      27\n",
       "             11      31\n",
       "             12      30\n",
       "             13      36\n",
       "             14      31\n",
       "             15      37\n",
       "             16      33\n",
       "             17      18\n",
       "             18      32\n",
       "             19      42\n",
       "             20      28\n",
       "Name: Gender, dtype: int64"
      ]
     },
     "execution_count": 27,
     "metadata": {},
     "output_type": "execute_result"
    }
   ],
   "source": [
    "# question 9: what time do people make more e-payment vs. what time do people make more cash payment?\n",
    "\n",
    "sales.groupby([\"Payment\", \"Hour\"]).count()[\"Gender\"]"
   ]
  },
  {
   "cell_type": "code",
   "execution_count": 28,
   "id": "4806297d",
   "metadata": {},
   "outputs": [
    {
     "data": {
      "text/plain": [
       "<matplotlib.legend.Legend at 0x13443e2d0>"
      ]
     },
     "execution_count": 28,
     "metadata": {},
     "output_type": "execute_result"
    },
    {
     "data": {
      "image/png": "[encoded data removed]",
      "text/plain": [
       "<Figure size 640x480 with 1 Axes>"
      ]
     },
     "metadata": {},
     "output_type": "display_data"
    }
   ],
   "source": [
    "sales.groupby([\"Payment\", \"Hour\"]).count()[\"Gender\"].unstack(level=0).plot(kind=\"bar\")\n",
    "plt.grid(axis=\"y\")\n",
    "plt.legend(loc=\"upper right\")"
   ]
  },
  {
   "cell_type": "code",
   "execution_count": 32,
   "id": "282b6212",
   "metadata": {},
   "outputs": [
    {
     "data": {
      "text/plain": [
       "<Axes: xlabel='City'>"
      ]
     },
     "execution_count": 32,
     "metadata": {},
     "output_type": "execute_result"
    },
    {
     "data": {
      "image/png": "[encoded data removed]",
      "text/plain": [
       "<Figure size 640x480 with 1 Axes>"
      ]
     },
     "metadata": {},
     "output_type": "display_data"
    }
   ],
   "source": [
    "# question 10: which city has the best ratings?\n",
    "ratings= sales.groupby(\"City\").count()[\"Rating\"]\n",
    "ratings.plot(kind=\"bar\")"
   ]
  },
  {
   "cell_type": "code",
   "execution_count": null,
   "id": "fbf6d4f4",
   "metadata": {},
   "outputs": [],
   "source": []
  }
 ],
 "metadata": {
  "kernelspec": {
   "display_name": "Python 3 (ipykernel)",
   "language": "python",
   "name": "python3"
  },
  "language_info": {
   "codemirror_mode": {
    "name": "ipython",
    "version": 3
   },
   "file_extension": ".py",
   "mimetype": "text/x-python",
   "name": "python",
   "nbconvert_exporter": "python",
   "pygments_lexer": "ipython3",
   "version": "3.11.5"
  }
 },
 "nbformat": 4,
 "nbformat_minor": 5
}
